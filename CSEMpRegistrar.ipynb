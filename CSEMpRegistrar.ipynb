{
 "cells": [
  {
   "cell_type": "code",
   "execution_count": 27,
   "metadata": {},
   "outputs": [],
   "source": [
    "import os\n",
    "import numpy as np\n",
    "import pandas as pd # Get Relevant information from CSEM# Get Relevant information from MBT file file"
   ]
  },
  {
   "cell_type": "markdown",
   "metadata": {},
   "source": [
    "# Get Relevant information from CSEM file"
   ]
  },
  {
   "cell_type": "code",
   "execution_count": 40,
   "metadata": {},
   "outputs": [
    {
     "data": {
      "text/html": [
       "<div>\n",
       "<style scoped>\n",
       "    .dataframe tbody tr th:only-of-type {\n",
       "        vertical-align: middle;\n",
       "    }\n",
       "\n",
       "    .dataframe tbody tr th {\n",
       "        vertical-align: top;\n",
       "    }\n",
       "\n",
       "    .dataframe thead th {\n",
       "        text-align: right;\n",
       "    }\n",
       "</style>\n",
       "<table border=\"1\" class=\"dataframe\">\n",
       "  <thead>\n",
       "    <tr style=\"text-align: right;\">\n",
       "      <th></th>\n",
       "      <th>Netid</th>\n",
       "      <th>PreScores</th>\n",
       "      <th>PostScores</th>\n",
       "      <th>Academic Term Sdescr</th>\n",
       "      <th>Catalog Nbr</th>\n",
       "    </tr>\n",
       "  </thead>\n",
       "  <tbody>\n",
       "    <tr>\n",
       "      <th>0</th>\n",
       "      <td>yw458</td>\n",
       "      <td>9.0</td>\n",
       "      <td>22.0</td>\n",
       "      <td>2017FA</td>\n",
       "      <td>2213</td>\n",
       "    </tr>\n",
       "    <tr>\n",
       "      <th>1</th>\n",
       "      <td>qmh4</td>\n",
       "      <td>17.0</td>\n",
       "      <td>23.0</td>\n",
       "      <td>2017FA</td>\n",
       "      <td>2213</td>\n",
       "    </tr>\n",
       "    <tr>\n",
       "      <th>2</th>\n",
       "      <td>vek9</td>\n",
       "      <td>14.0</td>\n",
       "      <td>NaN</td>\n",
       "      <td>2017FA</td>\n",
       "      <td>2213</td>\n",
       "    </tr>\n",
       "    <tr>\n",
       "      <th>3</th>\n",
       "      <td>jds462</td>\n",
       "      <td>7.0</td>\n",
       "      <td>NaN</td>\n",
       "      <td>2017FA</td>\n",
       "      <td>2213</td>\n",
       "    </tr>\n",
       "    <tr>\n",
       "      <th>4</th>\n",
       "      <td>psk92</td>\n",
       "      <td>13.0</td>\n",
       "      <td>19.0</td>\n",
       "      <td>2017FA</td>\n",
       "      <td>2213</td>\n",
       "    </tr>\n",
       "  </tbody>\n",
       "</table>\n",
       "</div>"
      ],
      "text/plain": [
       "    Netid  PreScores  PostScores Academic Term Sdescr Catalog Nbr\n",
       "0   yw458        9.0        22.0               2017FA        2213\n",
       "1    qmh4       17.0        23.0               2017FA        2213\n",
       "2    vek9       14.0         NaN               2017FA        2213\n",
       "3  jds462        7.0         NaN               2017FA        2213\n",
       "4   psk92       13.0        19.0               2017FA        2213"
      ]
     },
     "execution_count": 40,
     "metadata": {},
     "output_type": "execute_result"
    }
   ],
   "source": [
    "CSEM_Complete = pd.read_csv('CSEM_Master_RT.csv')\n",
    "CSEM_Complete['Catalog Nbr'] = CSEM_Complete['Post Course'].fillna(CSEM_Complete['Pre Course']).astype(str).apply(lambda x: x[4:])\n",
    "CSEM_Complete['NetID'] = CSEM_Complete['NetID'].str.replace(' ', '')\n",
    "# Merge with Registrar Data\n",
    "df = CSEM_Complete[['NetID', 'PreScore', 'PostScore', 'Semester', 'Catalog Nbr']].rename(columns = {'PreScore':'PreScores', \n",
    "                                                                                                    'PostScore':'PostScores', \n",
    "                                                                                                    'NetID':'Netid',\n",
    "                                                                                                    'Semester':'Academic Term Sdescr'})"
   ]
  },
  {
   "cell_type": "markdown",
   "metadata": {},
   "source": [
    "# Merge with Registrar Data"
   ]
  },
  {
   "cell_type": "code",
   "execution_count": 41,
   "metadata": {},
   "outputs": [
    {
     "name": "stderr",
     "output_type": "stream",
     "text": [
      "C:\\Anaconda3\\lib\\site-packages\\ipykernel_launcher.py:21: FutureWarning: Sorting because non-concatenation axis is not aligned. A future version\n",
      "of pandas will change to not sort by default.\n",
      "\n",
      "To accept the future behavior, pass 'sort=False'.\n",
      "\n",
      "To retain the current behavior and silence the warning, pass 'sort=True'.\n",
      "\n"
     ]
    }
   ],
   "source": [
    "df_Registrar = pd.read_excel('Registrar_Data.xls').drop(columns = ['ACT | Combined English/Writing', 'ACT | English', \n",
    "                                                                   'ACT | Reading', 'ACT | Writing',\n",
    "                                                                   'ACT | Writing Subject Score 9/15', 'SAT I | Critical Reading', \n",
    "                                                                   'SAT I | Read/Writing Sect Score', 'SAT I | Writing Score'])\n",
    "df_Registrar[['Catalog Nbr', 'Employee Id']] = df_Registrar[['Catalog Nbr', 'Employee Id']].astype(str)\n",
    "df_Registrar['Academic_Term_Number'] = df_Registrar['Academic Term Sdescr'].map({'2017FA':1, '2018SP':2, '2018FA':3, '2019SP':4})\n",
    "df_Registrar = df_Registrar.sort_values(by = 'Academic_Term_Number').drop_duplicates(subset = ['Employee Id', \n",
    "                                                                                               'Catalog Nbr'], keep = 'last')\n",
    "\n",
    "df_merged = pd.merge(df, df_Registrar, on = ['Netid', 'Academic Term Sdescr', 'Catalog Nbr'], \n",
    "                     how = 'inner').drop_duplicates(subset = ['Employee Id', 'Academic Term Sdescr'], \n",
    "                                                    keep = 'last').reset_index(drop = True)\n",
    "\n",
    "index_vals = [tuple(v) for v in df_merged[['Employee Id', 'Academic Term Sdescr']].values]\n",
    "filtered = df_Registrar.loc[(df_Registrar['Academic Term Sdescr'] + \n",
    "                             df_Registrar['Catalog Nbr']).isin(df_merged['Academic Term Sdescr'] + \n",
    "                                                               df_merged['Catalog Nbr'])].set_index(['Employee Id',\n",
    "                                                                                                     'Academic Term Sdescr'])\n",
    "filtered_out = filtered.loc[~filtered.index.isin(index_vals)].reset_index()\n",
    "\n",
    "df_out = pd.concat([df_merged, filtered_out]).reset_index(drop = True)\n",
    "df_out = df_out.loc[:, list(df_Registrar.columns) + ['PreScores', 'PostScores']]\n",
    "df_out['Assessment'] = 'CSEM'\n",
    "df_out.to_csv('CSEMpRegistrar.csv', index = False)"
   ]
  }
 ],
 "metadata": {
  "kernelspec": {
   "display_name": "Python 3",
   "language": "python",
   "name": "python3"
  },
  "language_info": {
   "codemirror_mode": {
    "name": "ipython",
    "version": 3
   },
   "file_extension": ".py",
   "mimetype": "text/x-python",
   "name": "python",
   "nbconvert_exporter": "python",
   "pygments_lexer": "ipython3",
   "version": "3.6.6"
  }
 },
 "nbformat": 4,
 "nbformat_minor": 2
}
