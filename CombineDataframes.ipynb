{
 "cells": [
  {
   "cell_type": "code",
   "execution_count": 1,
   "metadata": {},
   "outputs": [],
   "source": [
    "import pandas as pd"
   ]
  },
  {
   "cell_type": "code",
   "execution_count": 2,
   "metadata": {},
   "outputs": [],
   "source": [
    "df_PLIC = pd.read_csv('PLICpRegistrar.csv')\n",
    "df_ECLASS = pd.read_csv('ECLASSpRegistrar.csv')\n",
    "df_MBT = pd.read_csv('MBTpRegistrar.csv')\n",
    "df_CSEM = pd.read_csv('CSEMpRegistrar.csv')\n",
    "df = pd.concat([df_PLIC, df_ECLASS, df_MBT, df_CSEM]).reset_index(drop = True)"
   ]
  },
  {
   "cell_type": "markdown",
   "metadata": {},
   "source": [
    "# Convert ACT, SAT scores to percentiles"
   ]
  },
  {
   "cell_type": "code",
   "execution_count": 3,
   "metadata": {},
   "outputs": [],
   "source": [
    "ACT_Math_Dict = {1:1, 2:1, 3:1, 4:1, 5:1, 6:1, 7:1, 8:1, 9:1, \n",
    "                 10:1, 11:1, 12:1, 13:3, 14:8, 15:18, 16:29, \n",
    "                 17:38, 18:46, 19:51, 20:55, 21:59, 22:63, \n",
    "                 23:68, 24:73, 25:78, 26:83, 27:88, 28:91, \n",
    "                 29:93, 30:95, 31:96, 32:97, 33:98, 34:99, \n",
    "                 35:99, 36:100}\n",
    "\n",
    "SAT_Math_Dict = {200:1, 210:1, 220:1, 230:1, 240:1, 250:1, \n",
    "                 260:1, 270:1, 280:1, 290:1, 300:1, 310:1, \n",
    "                 320:1, 330:2, 340:3, 350:4, 360:6, 370:7, \n",
    "                 380:9, 390:11, 400:13, 410:15, 420:17, \n",
    "                 430:20, 440:22, 450:25, 460:28, 470:31, \n",
    "                 480:34, 490:37, 500:40, 510:44, 520:49, \n",
    "                 530:53, 540:57, 550:61, 560:64, 570:66, \n",
    "                 580:69, 590:72, 600:75, 610:77, 620:79, \n",
    "                 630:81, 640:83, 650:85, 660:86, 670:88, \n",
    "                 680:89, 690:91, 700:92, 710:93, 720:94, \n",
    "                 730:95, 740:96, 750:96, 760:97, 770:98,\n",
    "                 780:98, 790:99, 800:99}\n",
    "\n",
    "SAT_MathSection_Dict = {200:0, 210:1, 220:1, 230:1, 240:1, \n",
    "                        250:2, 260:2, 270:2, 280:3, 290:3, \n",
    "                        300:4, 310:5, 320:6, 330:7, 340:8, \n",
    "                        350:10, 360:12, 370:14, 380:17, 390:19, \n",
    "                        400:22, 410:25, 420:29, 430:32, 440:35, \n",
    "                        450:39, 460:42, 470:46, 480:49, 490:53, \n",
    "                        500:56, 510:59, 520:62, 530:65, 540:68, \n",
    "                        550:71, 560:74, 570:76, 580:78, 590:80, \n",
    "                        600:82, 610:84, 620:86, 630:88, 640:89, \n",
    "                        650:91, 660:92, 670:93, 680:94, 690:95, \n",
    "                        700:96, 710:96, 720:97, 730:98, 740:98, \n",
    "                        750:98, 760:99, 770:99, 780:99, 790:99, \n",
    "                        800:99}\n",
    "\n",
    "df['ACT | Math'] = df['ACT | Math'].map(ACT_Math_Dict)\n",
    "df['SAT I | Math'] = df['SAT I | Math'].map(SAT_Math_Dict)\n",
    "df['SAT I | Math Section Score'] = df['SAT I | Math Section Score'].map(SAT_MathSection_Dict)\n",
    "\n",
    "df['ACT_SAT_Math_Percentile'] = df[['ACT | Math', 'SAT I | Math', 'SAT I | Math Section Score']].max(axis = 1, skipna = True)"
   ]
  },
  {
   "cell_type": "markdown",
   "metadata": {},
   "source": [
    "# AP Scores"
   ]
  },
  {
   "cell_type": "code",
   "execution_count": 4,
   "metadata": {},
   "outputs": [],
   "source": [
    "df['AP Calculus AB Max Score'] = df[['AP | Calculus AB Subscore Grade', 'AP | Mathematics: Calculus AB']].max(axis = 1, \n",
    "                                                                                                              skipna = True)\n",
    "df['AP_Calculus_AB'] = df['AP Calculus AB Max Score'].map({0:'Poor', 1:'Poor', 2:'Poor', 3:'Poor', 4:'Well', 5:'Well'})\n",
    "df['AP_Calculus_BC'] = df['AP | Mathematics: Calculus BC'].map({0:'Poor', 1:'Poor', 2:'Poor', 3:'Poor', 4:'Well', 5:'Well'})\n",
    "df['AP_Physics_EM'] = df['AP | Physics C - Electricity & Magt'].map({0:'Poor', 1:'Poor', 2:'Poor', 3:'Poor', 4:'Poor', 5:'Well'})\n",
    "df['AP_Physics_Mech'] = df['AP | Physics C - Mechanics'].map({0:'Poor', 1:'Poor', 2:'Poor', 3:'Poor', 4:'Poor', 5:'Well'})\n",
    "\n",
    "df[['AP_Calculus_AB', 'AP_Calculus_BC', 'AP_Physics_EM', \n",
    "    'AP_Physics_Mech']] = df[['AP_Calculus_AB', 'AP_Calculus_BC', 'AP_Physics_EM', 'AP_Physics_Mech']].fillna('NotTaken')"
   ]
  },
  {
   "cell_type": "markdown",
   "metadata": {},
   "source": [
    "# Select columns and write to csv"
   ]
  },
  {
   "cell_type": "code",
   "execution_count": 5,
   "metadata": {},
   "outputs": [
    {
     "data": {
      "text/plain": [
       "PLIC      776\n",
       "ECLASS    692\n",
       "CSEM      653\n",
       "MBT       592\n",
       "Name: Assessment, dtype: int64"
      ]
     },
     "execution_count": 5,
     "metadata": {},
     "output_type": "execute_result"
    }
   ],
   "source": [
    "df['St Urm Flag'] = df['St Urm Flag'].map({'Y':'URM', 'N':'Majority'})\n",
    "df['Student Group Sdescr'] = df['Student Group Sdescr'].fillna('Cont Gen')\n",
    "\n",
    "df['Season'] = df['Academic Term Sdescr'].apply(lambda x: x[-2:])\n",
    "df['Sequence'] = df['Catalog Nbr'].map({1112:'Engineering', 2213:'Engineering', 1116:'Honours', 2217:'Honours'})\n",
    "df['Course_Content'] = df['Catalog Nbr'].map({1112:'Mechanics', 2213:'EM', 1116:'Mechanics', 2217:'EM'})\n",
    "\n",
    "df_out = df[['Employee Id', 'Netid', 'Academic Term Sdescr', 'Catalog Nbr', 'Acad Level Ldescr', 'Academic Plan',\n",
    "             'Effdt Gender', 'St Urm Flag', 'Student Group Sdescr', 'Cum GPA', 'ACT_SAT_Math_Percentile', \n",
    "             'AP_Calculus_AB', 'AP_Calculus_BC', 'AP_Physics_EM', 'AP_Physics_Mech', 'PreScores', 'PostScores', \n",
    "             'Assessment', 'Season', 'Sequence', 'Course_Content']].rename(columns = {'Employee Id':'Student_ID', 'Academic Term Sdescr':'Term', \n",
    "                                              'Catalog Nbr':'Course_Code', 'Acad Level Ldescr':'Class_Standing', \n",
    "                                              'Academic Plan':'Major', 'Effdt Gender':'Gender', 'St Urm Flag':'URM_Status', \n",
    "                                              'Student Group Sdescr':'First_Gen_Status', 'Cum GPA':'GPA'})\n",
    "\n",
    "df_out['Class'] = df_out['Term'] + '-' + df_out['Course_Code'].astype(str)\n",
    "\n",
    "df_out.to_csv('MasterData.csv', index = False)\n",
    "\n",
    "df_matched = df_out[(pd.notnull(df_out['PreScores'])) & (pd.notnull(df_out['PostScores']))]\n",
    "df_matched.to_csv('MasterData_Matched.csv', index = False)\n",
    "df_matched['Assessment'].value_counts()"
   ]
  }
 ],
 "metadata": {
  "kernelspec": {
   "display_name": "Python 3",
   "language": "python",
   "name": "python3"
  },
  "language_info": {
   "codemirror_mode": {
    "name": "ipython",
    "version": 3
   },
   "file_extension": ".py",
   "mimetype": "text/x-python",
   "name": "python",
   "nbconvert_exporter": "python",
   "pygments_lexer": "ipython3",
   "version": "3.6.6"
  }
 },
 "nbformat": 4,
 "nbformat_minor": 2
}
