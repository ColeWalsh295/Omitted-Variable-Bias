{
 "cells": [
  {
   "cell_type": "code",
   "execution_count": 1,
   "metadata": {},
   "outputs": [],
   "source": [
    "import os\n",
    "import numpy as np\n",
    "import pandas as pd# Get Relevant information from MBT file"
   ]
  },
  {
   "cell_type": "markdown",
   "metadata": {},
   "source": [
    "# Get Relevant information from MBT file"
   ]
  },
  {
   "cell_type": "code",
   "execution_count": 2,
   "metadata": {},
   "outputs": [],
   "source": [
    "MBT_Complete = pd.read_csv('MBT_Master_MS.csv', encoding = 'latin')\n",
    "MBT_Complete['Academic Term Sdescr'] = MBT_Complete['year'].astype(str) + MBT_Complete['season'].apply(lambda x: x[:2].upper())\n",
    "MBT_Complete['Catalog Nbr'] = MBT_Complete['sequence'].map({'Engineering':'1112', 'Honors':'1116'})\n",
    "# Merge with Registrar Data\n",
    "df = MBT_Complete[['netID', 'studentID', 'pre', 'post', 'Academic Term Sdescr',\n",
    "                   'Catalog Nbr']].rename(columns = {'pre':'PreScores', 'post':'PostScores'})"
   ]
  },
  {
   "cell_type": "markdown",
   "metadata": {},
   "source": [
    "# Merge with Registrar Data"
   ]
  },
  {
   "cell_type": "code",
   "execution_count": 3,
   "metadata": {},
   "outputs": [
    {
     "name": "stderr",
     "output_type": "stream",
     "text": [
      "C:\\Anaconda3\\lib\\site-packages\\ipykernel_launcher.py:25: FutureWarning: Sorting because non-concatenation axis is not aligned. A future version\n",
      "of pandas will change to not sort by default.\n",
      "\n",
      "To accept the future behavior, pass 'sort=False'.\n",
      "\n",
      "To retain the current behavior and silence the warning, pass 'sort=True'.\n",
      "\n"
     ]
    }
   ],
   "source": [
    "df_Registrar = pd.read_excel('Registrar_Data.xls').drop(columns = ['ACT | Combined English/Writing', 'ACT | English', \n",
    "                                                                   'ACT | Reading', 'ACT | Writing',\n",
    "                                                                   'ACT | Writing Subject Score 9/15', 'SAT I | Critical Reading', \n",
    "                                                                   'SAT I | Read/Writing Sect Score', 'SAT I | Writing Score'])\n",
    "df_Registrar[['Catalog Nbr', 'Employee Id']] = df_Registrar[['Catalog Nbr', 'Employee Id']].astype(str)\n",
    "df_Registrar['Academic_Term_Number'] = df_Registrar['Academic Term Sdescr'].map({'2017FA':1, '2018SP':2, '2018FA':3, '2019SP':4})\n",
    "df_Registrar = df_Registrar.sort_values(by = 'Academic_Term_Number').drop_duplicates(subset = ['Employee Id', \n",
    "                                                                                               'Catalog Nbr'], keep = 'last')\n",
    "\n",
    "df1 = pd.merge(df, df_Registrar, left_on = ['netID', 'Academic Term Sdescr', 'Catalog Nbr'], \n",
    "               right_on = ['Netid', 'Academic Term Sdescr', 'Catalog Nbr'], how = 'inner')\n",
    "df2 = pd.merge(df, df_Registrar, left_on = ['studentID', 'Academic Term Sdescr', 'Catalog Nbr'], \n",
    "               right_on = ['Employee Id', 'Academic Term Sdescr', 'Catalog Nbr'], how = 'inner')\n",
    "\n",
    "df_merged = pd.concat([df1, df2]).drop_duplicates(subset = ['Employee Id', 'Academic Term Sdescr'],\n",
    "                                                  keep = 'last').reset_index(drop = True)\n",
    "\n",
    "index_vals = [tuple(v) for v in df_merged[['Employee Id', 'Academic Term Sdescr']].values]\n",
    "filtered = df_Registrar.loc[(df_Registrar['Academic Term Sdescr'] + \n",
    "                             df_Registrar['Catalog Nbr']).isin(df_merged['Academic Term Sdescr'] + \n",
    "                                                               df_merged['Catalog Nbr'])].set_index(['Employee Id',\n",
    "                                                                                                     'Academic Term Sdescr'])\n",
    "filtered_out = filtered.loc[~filtered.index.isin(index_vals)].reset_index()\n",
    "\n",
    "df_out = pd.concat([df_merged, filtered_out]).drop(columns = ['netID', 'studentID']).reset_index(drop = True)\n",
    "df_out = df_out.loc[:, list(df_Registrar.columns) + ['PreScores', 'PostScores']]\n",
    "df_out['Assessment'] = 'MBT'\n",
    "df_out.to_csv('MBTpRegistrar.csv', index = False)"
   ]
  }
 ],
 "metadata": {
  "kernelspec": {
   "display_name": "Python 3",
   "language": "python",
   "name": "python3"
  },
  "language_info": {
   "codemirror_mode": {
    "name": "ipython",
    "version": 3
   },
   "file_extension": ".py",
   "mimetype": "text/x-python",
   "name": "python",
   "nbconvert_exporter": "python",
   "pygments_lexer": "ipython3",
   "version": "3.6.6"
  }
 },
 "nbformat": 4,
 "nbformat_minor": 2
}
