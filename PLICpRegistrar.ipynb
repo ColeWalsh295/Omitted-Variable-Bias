{
 "cells": [
  {
   "cell_type": "code",
   "execution_count": 1,
   "metadata": {},
   "outputs": [],
   "source": [
    "import os\n",
    "import numpy as np\n",
    "import pandas as pd"
   ]
  },
  {
   "cell_type": "markdown",
   "metadata": {},
   "source": [
    "# Get Relevant information from PLIC file"
   ]
  },
  {
   "cell_type": "code",
   "execution_count": 2,
   "metadata": {},
   "outputs": [],
   "source": [
    "def GetClassData(df_Complete, Class_ID, Term, Nbr):\n",
    "    df = df_Complete[df_Complete['Class_ID'] == Class_ID]\n",
    "    df['Academic Term Sdescr'] = Term\n",
    "    df['Catalog Nbr'] = Nbr\n",
    "    df.loc[df['Survey_x'] == 'F', 'PreScores'] = np.nan\n",
    "    df.loc[df['Survey_y'] == 'F', 'PostScores'] = np.nan\n",
    "    df = df[~(pd.isnull(df['PreScores'])) | ~(pd.isnull(df['PostScores']))].reset_index(drop = True)\n",
    "    df['Q5a_x'] = df['Q5a_x'].astype(str).str.split('@').str.get(0).str.lower()\n",
    "    df['Q5a_y'] = df['Q5a_y'].astype(str).str.split('@').str.get(0).str.lower()\n",
    "    return df[['Q5a_x', 'Q5a_y', 'PreScores', 'PostScores', 'Academic Term Sdescr', 'Catalog Nbr']]"
   ]
  },
  {
   "cell_type": "code",
   "execution_count": 3,
   "metadata": {},
   "outputs": [
    {
     "name": "stderr",
     "output_type": "stream",
     "text": [
      "C:\\Anaconda3\\lib\\site-packages\\IPython\\core\\interactiveshell.py:2785: DtypeWarning: Columns (17,33,34,39,40,65,66,67,68,97,98,101,125,126,135,136,141,142,167,168,171,172,203,204,205,217,218,239,240,241,249,269,270,305,306,311,312,313,323,349,350,351,353,355,357,361,365,385,386,405,406,413,414,419,537,545,547,549,551) have mixed types. Specify dtype option on import or set low_memory=False.\n",
      "  interactivity=interactivity, compiler=compiler, result=result)\n",
      "C:\\Anaconda3\\lib\\site-packages\\ipykernel_launcher.py:3: SettingWithCopyWarning: \n",
      "A value is trying to be set on a copy of a slice from a DataFrame.\n",
      "Try using .loc[row_indexer,col_indexer] = value instead\n",
      "\n",
      "See the caveats in the documentation: http://pandas.pydata.org/pandas-docs/stable/indexing.html#indexing-view-versus-copy\n",
      "  This is separate from the ipykernel package so we can avoid doing imports until\n",
      "C:\\Anaconda3\\lib\\site-packages\\ipykernel_launcher.py:4: SettingWithCopyWarning: \n",
      "A value is trying to be set on a copy of a slice from a DataFrame.\n",
      "Try using .loc[row_indexer,col_indexer] = value instead\n",
      "\n",
      "See the caveats in the documentation: http://pandas.pydata.org/pandas-docs/stable/indexing.html#indexing-view-versus-copy\n",
      "  after removing the cwd from sys.path.\n",
      "C:\\Anaconda3\\lib\\site-packages\\pandas\\core\\indexing.py:543: SettingWithCopyWarning: \n",
      "A value is trying to be set on a copy of a slice from a DataFrame.\n",
      "Try using .loc[row_indexer,col_indexer] = value instead\n",
      "\n",
      "See the caveats in the documentation: http://pandas.pydata.org/pandas-docs/stable/indexing.html#indexing-view-versus-copy\n",
      "  self.obj[item] = s\n"
     ]
    }
   ],
   "source": [
    "PLIC_Complete = pd.read_csv('C:/Users/Cole/Documents/PLIC_DATA/Collective_Surveys/Complete/Complete_Concat.csv')\n",
    "\n",
    "Fall2017_1112 = GetClassData(PLIC_Complete, 'R_2xOT2Y1NtNiseCk', '2017FA', '1112')\n",
    "Fall2017_2213 = GetClassData(PLIC_Complete, 'R_zfk080BHz6RWixb', '2017FA', '2213')\n",
    "Fall2017_1116 = GetClassData(PLIC_Complete, 'R_1Oko8BpPfb9rt0G', '2017FA', '1116')\n",
    "Fall2017_2217 = GetClassData(PLIC_Complete, 'R_12QFe4VQPh6oNW1', '2017FA', '2217')\n",
    "\n",
    "Spring2018_1112 = GetClassData(PLIC_Complete, 'R_1LHvn3R5Afj8eUc', '2018SP', '1112')\n",
    "Spring2018_1116 = GetClassData(PLIC_Complete, 'R_2R8MnTyv2jFgPzA', '2018SP', '1116')\n",
    "\n",
    "Fall2018_1112 = GetClassData(PLIC_Complete, 'R_3ijRcPfXo8MUfFj', '2018FA', '1112')\n",
    "Fall2018_1116 = GetClassData(PLIC_Complete, 'R_1IB300CxBKh0Tw7', '2018FA', '1116')\n",
    "\n",
    "Spring2019_1112 = GetClassData(PLIC_Complete, 'R_RKRNIWFu1gZuSPf', '2019SP', '1112')\n",
    "\n",
    "df = pd.concat([Fall2017_1112, Fall2017_2213, Fall2017_1116, Fall2017_2217, Spring2018_1112, Spring2018_1116, Fall2018_1112,\n",
    "                Fall2018_1116, Spring2019_1112]).reset_index(drop = True)"
   ]
  },
  {
   "cell_type": "markdown",
   "metadata": {},
   "source": [
    "# Merge with Registrar Data"
   ]
  },
  {
   "cell_type": "code",
   "execution_count": 4,
   "metadata": {},
   "outputs": [
    {
     "name": "stderr",
     "output_type": "stream",
     "text": [
      "C:\\Anaconda3\\lib\\site-packages\\ipykernel_launcher.py:29: FutureWarning: Sorting because non-concatenation axis is not aligned. A future version\n",
      "of pandas will change to not sort by default.\n",
      "\n",
      "To accept the future behavior, pass 'sort=False'.\n",
      "\n",
      "To retain the current behavior and silence the warning, pass 'sort=True'.\n",
      "\n"
     ]
    }
   ],
   "source": [
    "df_Registrar = pd.read_excel('Registrar_Data.xls').drop(columns = ['ACT | Combined English/Writing', 'ACT | English', \n",
    "                                                                   'ACT | Reading', 'ACT | Writing', \n",
    "                                                                   'ACT | Writing Subject Score 9/15', 'SAT I | Critical Reading', \n",
    "                                                                   'SAT I | Read/Writing Sect Score', 'SAT I | Writing Score'])\n",
    "df_Registrar[['Catalog Nbr', 'Employee Id']] = df_Registrar[['Catalog Nbr', 'Employee Id']].astype(str)\n",
    "df_Registrar['Academic_Term_Number'] = df_Registrar['Academic Term Sdescr'].map({'2017FA':1, '2018SP':2, '2018FA':3, '2019SP':4})\n",
    "df_Registrar = df_Registrar.sort_values(by = 'Academic_Term_Number').drop_duplicates(subset = ['Employee Id', \n",
    "                                                                                               'Catalog Nbr'], keep = 'last')\n",
    "\n",
    "df1 = pd.merge(df, df_Registrar, left_on = ['Q5a_x', 'Academic Term Sdescr', 'Catalog Nbr'],\n",
    "               right_on = ['Netid', 'Academic Term Sdescr', 'Catalog Nbr'], how = 'inner')\n",
    "df2 = pd.merge(df, df_Registrar, left_on = ['Q5a_x', 'Academic Term Sdescr', 'Catalog Nbr'],\n",
    "               right_on = ['Employee Id', 'Academic Term Sdescr', 'Catalog Nbr'], how = 'inner')\n",
    "df3 = df.merge(df_Registrar, left_on = ['Q5a_y', 'Academic Term Sdescr', 'Catalog Nbr'],\n",
    "               right_on = ['Netid', 'Academic Term Sdescr', 'Catalog Nbr'], how = 'inner')\n",
    "df4 = df.merge(df_Registrar, left_on = ['Q5a_y', 'Academic Term Sdescr', 'Catalog Nbr'],\n",
    "               right_on = ['Employee Id', 'Academic Term Sdescr', 'Catalog Nbr'], how = 'inner')\n",
    "\n",
    "df_merged = pd.concat([df1, df2, df3, df4]).drop_duplicates(subset = ['Employee Id', 'Academic Term Sdescr'],\n",
    "                                                            keep = 'last').reset_index(drop = True)\n",
    "\n",
    "index_vals = [tuple(v) for v in df_merged[['Employee Id', 'Academic Term Sdescr']].values]\n",
    "filtered = df_Registrar.loc[(df_Registrar['Academic Term Sdescr'] + \n",
    "                             df_Registrar['Catalog Nbr']).isin(df_merged['Academic Term Sdescr'] + \n",
    "                                                               df_merged['Catalog Nbr'])].set_index(['Employee Id',\n",
    "                                                                                                     'Academic Term Sdescr'])\n",
    "filtered_out = filtered.loc[~filtered.index.isin(index_vals)].reset_index()\n",
    "\n",
    "df_out = pd.concat([df_merged, filtered_out]).drop(columns = ['Q5a_x', 'Q5a_y']).reset_index(drop = True)\n",
    "df_out = df_out.loc[:, list(df_Registrar.columns) + ['PreScores', 'PostScores']]\n",
    "df_out['Assessment'] = 'PLIC'\n",
    "df_out.to_csv('PLICpRegistrar.csv', index = False)"
   ]
  }
 ],
 "metadata": {
  "kernelspec": {
   "display_name": "Python 3",
   "language": "python",
   "name": "python3"
  },
  "language_info": {
   "codemirror_mode": {
    "name": "ipython",
    "version": 3
   },
   "file_extension": ".py",
   "mimetype": "text/x-python",
   "name": "python",
   "nbconvert_exporter": "python",
   "pygments_lexer": "ipython3",
   "version": "3.6.6"
  }
 },
 "nbformat": 4,
 "nbformat_minor": 2
}
