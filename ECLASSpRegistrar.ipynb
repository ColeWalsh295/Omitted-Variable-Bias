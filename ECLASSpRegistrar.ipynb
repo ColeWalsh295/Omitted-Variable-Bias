{
 "cells": [
  {
   "cell_type": "code",
   "execution_count": 1,
   "metadata": {},
   "outputs": [],
   "source": [
    "import os\n",
    "import numpy as np\n",
    "import pandas as pd"
   ]
  },
  {
   "cell_type": "markdown",
   "metadata": {},
   "source": [
    "# Get Relevant information from ECLASS file"
   ]
  },
  {
   "cell_type": "code",
   "execution_count": 2,
   "metadata": {},
   "outputs": [],
   "source": [
    "ECLASS_Complete = pd.read_csv('C:/Users/Cole/Documents/ECLASS_DATA/ECLASS_Merged_Concat.csv')\n",
    "ECLASS_Complete['Academic Term Sdescr'] = ECLASS_Complete['Year'].astype(str) + ECLASS_Complete['Semester'].apply(lambda x: x[:2].upper())\n",
    "ECLASS_Complete['Catalog Nbr'] = ECLASS_Complete['Course'].apply(lambda x: x[1:])\n",
    "ECLASS_Complete['Q3_3_TEXT_x'] = ECLASS_Complete['Q3_3_TEXT_x'].astype(str).str.split('@').str.get(0).str.lower()\n",
    "ECLASS_Complete['Q3_3_TEXT_y'] = ECLASS_Complete['Q3_3_TEXT_y'].astype(str).str.split('@').str.get(0).str.lower()\n",
    "\n",
    "df = ECLASS_Complete[['Q3_3_TEXT_x', 'Q3_3_TEXT_y', 'Student_Score_x', 'Student_Score_y', 'Academic Term Sdescr',\n",
    "                      'Catalog Nbr']].rename(columns = {'Student_Score_x':'PreScores', 'Student_Score_y':'PostScores'})"
   ]
  },
  {
   "cell_type": "markdown",
   "metadata": {},
   "source": [
    "# Merge with Registrar Data"
   ]
  },
  {
   "cell_type": "code",
   "execution_count": 3,
   "metadata": {},
   "outputs": [
    {
     "name": "stderr",
     "output_type": "stream",
     "text": [
      "C:\\Anaconda3\\lib\\site-packages\\ipykernel_launcher.py:29: FutureWarning: Sorting because non-concatenation axis is not aligned. A future version\n",
      "of pandas will change to not sort by default.\n",
      "\n",
      "To accept the future behavior, pass 'sort=False'.\n",
      "\n",
      "To retain the current behavior and silence the warning, pass 'sort=True'.\n",
      "\n"
     ]
    }
   ],
   "source": [
    "df_Registrar = pd.read_excel('Registrar_Data.xls').drop(columns = ['ACT | Combined English/Writing', 'ACT | English', \n",
    "                                                                   'ACT | Reading', 'ACT | Writing',\n",
    "                                                                   'ACT | Writing Subject Score 9/15', 'SAT I | Critical Reading', \n",
    "                                                                   'SAT I | Read/Writing Sect Score', 'SAT I | Writing Score'])\n",
    "df_Registrar[['Catalog Nbr', 'Employee Id']] = df_Registrar[['Catalog Nbr', 'Employee Id']].astype(str)\n",
    "df_Registrar['Academic_Term_Number'] = df_Registrar['Academic Term Sdescr'].map({'2017FA':1, '2018SP':2, '2018FA':3, '2019SP':4})\n",
    "df_Registrar = df_Registrar.sort_values(by = 'Academic_Term_Number').drop_duplicates(subset = ['Employee Id', \n",
    "                                                                                               'Catalog Nbr'], keep = 'last')\n",
    "\n",
    "df1 = pd.merge(df, df_Registrar, left_on = ['Q3_3_TEXT_x', 'Academic Term Sdescr', 'Catalog Nbr'],\n",
    "               right_on = ['Netid', 'Academic Term Sdescr', 'Catalog Nbr'], how = 'inner')\n",
    "df2 = pd.merge(df, df_Registrar, left_on = ['Q3_3_TEXT_x', 'Academic Term Sdescr', 'Catalog Nbr'],\n",
    "               right_on = ['Employee Id', 'Academic Term Sdescr', 'Catalog Nbr'], how = 'inner')\n",
    "df3 = df.merge(df_Registrar, left_on = ['Q3_3_TEXT_y', 'Academic Term Sdescr', 'Catalog Nbr'],\n",
    "               right_on = ['Netid', 'Academic Term Sdescr', 'Catalog Nbr'], how = 'inner')\n",
    "df4 = df.merge(df_Registrar, left_on = ['Q3_3_TEXT_y', 'Academic Term Sdescr', 'Catalog Nbr'],\n",
    "               right_on = ['Employee Id', 'Academic Term Sdescr', 'Catalog Nbr'], how = 'inner')\n",
    "\n",
    "df_merged = pd.concat([df1, df2, df3, df4]).drop_duplicates(subset = ['Employee Id', 'Academic Term Sdescr'],\n",
    "                                                            keep = 'last').reset_index(drop = True)\n",
    "\n",
    "index_vals = [tuple(v) for v in df_merged[['Employee Id', 'Academic Term Sdescr']].values]\n",
    "filtered = df_Registrar.loc[(df_Registrar['Academic Term Sdescr'] + \n",
    "                             df_Registrar['Catalog Nbr']).isin(df_merged['Academic Term Sdescr'] + \n",
    "                                                               df_merged['Catalog Nbr'])].set_index(['Employee Id',\n",
    "                                                                                                     'Academic Term Sdescr'])\n",
    "filtered_out = filtered.loc[~filtered.index.isin(index_vals)].reset_index()\n",
    "\n",
    "df_out = pd.concat([df_merged, filtered_out]).drop(columns = ['Q3_3_TEXT_x', 'Q3_3_TEXT_y']).reset_index(drop = True)\n",
    "df_out = df_out.loc[:, list(df_Registrar.columns) + ['PreScores', 'PostScores']]\n",
    "df_out['Assessment'] = 'ECLASS'\n",
    "df_out.to_csv('ECLASSpRegistrar.csv', index = False)"
   ]
  }
 ],
 "metadata": {
  "kernelspec": {
   "display_name": "Python 3",
   "language": "python",
   "name": "python3"
  },
  "language_info": {
   "codemirror_mode": {
    "name": "ipython",
    "version": 3
   },
   "file_extension": ".py",
   "mimetype": "text/x-python",
   "name": "python",
   "nbconvert_exporter": "python",
   "pygments_lexer": "ipython3",
   "version": "3.6.6"
  }
 },
 "nbformat": 4,
 "nbformat_minor": 2
}
